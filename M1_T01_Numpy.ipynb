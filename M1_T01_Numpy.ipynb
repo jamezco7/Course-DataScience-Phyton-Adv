{
 "cells": [
  {
   "cell_type": "markdown",
   "id": "07a565f6",
   "metadata": {},
   "source": [
    "## Practice with NumPy numerical programming\n",
    "This practice covers some of the most important aspects of creating and manipulating arrays using the numpy library."
   ]
  },
  {
   "cell_type": "markdown",
   "id": "d4e3299d",
   "metadata": {},
   "source": [
    "## Level 1"
   ]
  },
  {
   "cell_type": "markdown",
   "id": "8d87bf23",
   "metadata": {},
   "source": [
    "### Exercise 1"
   ]
  },
  {
   "cell_type": "code",
   "execution_count": 1,
   "id": "699125ce",
   "metadata": {},
   "outputs": [],
   "source": [
    "# A simple Python library for easily displaying tabular data in a visually appealing ASCII table format.\n",
    "from prettytable import PrettyTable\n",
    "\n",
    "# Import numpy library using the alias *np*\n",
    "import numpy as np "
   ]
  },
  {
   "cell_type": "code",
   "execution_count": 2,
   "id": "1ecd000f",
   "metadata": {},
   "outputs": [],
   "source": [
    "# Define a function called 'summaryArray()'\n",
    "# This function creates a basic statistical summary of the data contained in a 1D-array. \n",
    "# If the array has more than one dimension, it displays an error message.\n",
    "\n",
    "def summaryArray(array):\n",
    "    summary = PrettyTable()\n",
    "    summary.field_names = [\"Description\", \"Value\"]\n",
    "    if array.ndim >1:\n",
    "        print('Error!, array dimension is greater than 1')\n",
    "    else:\n",
    "        summary.add_row([\"Minimun\",np.amin(array)])  # Minimum value of the element along a specified axis.    \n",
    "        summary.add_row([\"Maximum\",np.amax(array)])  # Maximum value of the element along a specified axis.\n",
    "        summary.add_row([\"Mean\",np.mean(array)])     # Mean value of the data set.\n",
    "        summary.add_row([\"Median\",np.median(array)]) # Median value of the data set.\n",
    "        summary.add_row([\"Std Dev\",np.std(array)])   # It determines the standard deviation.\n",
    "        summary.add_row([\"variance\",np.var(array)])  # It determines the variance.\n",
    "        summary.add_row([\"Range\",np.ptp(array)])     # It returns a range of values along an axis.\n",
    "        summary.add_row([\"Average\",np.average(array)]) # It determines the weighted average.\n",
    "        summary.add_row([\"Percentile\",np.percentile(array,10,0)]) #It determines the nth percentile of data along the specified axis.\n",
    "        print(summary)"
   ]
  },
  {
   "cell_type": "code",
   "execution_count": 3,
   "id": "ab2abd22",
   "metadata": {},
   "outputs": [
    {
     "name": "stdout",
     "output_type": "stream",
     "text": [
      "+-------------+-------------------+\n",
      "| Description |       Value       |\n",
      "+-------------+-------------------+\n",
      "|   Minimun   |         1         |\n",
      "|   Maximum   |         9         |\n",
      "|     Mean    |        5.0        |\n",
      "|    Median   |        5.0        |\n",
      "|   Std Dev   | 2.581988897471611 |\n",
      "|   variance  | 6.666666666666667 |\n",
      "|    Range    |         8         |\n",
      "|   Average   |        5.0        |\n",
      "|  Percentile |        1.8        |\n",
      "+-------------+-------------------+\n"
     ]
    }
   ],
   "source": [
    "# Validation 1\n",
    "x = np.array([1,2,3,4,5,6,7,8,9])\n",
    "summaryArray(x)"
   ]
  },
  {
   "cell_type": "code",
   "execution_count": 4,
   "id": "6a298b32",
   "metadata": {},
   "outputs": [
    {
     "name": "stdout",
     "output_type": "stream",
     "text": [
      "2\n",
      "Error!, array dimension is greater than 1\n"
     ]
    }
   ],
   "source": [
    "# Validation 2\n",
    "y = np.array([[1,2,3,4,5], [6,7,8,9,10]])\n",
    "print(y.ndim)\n",
    "summaryArray(y)"
   ]
  },
  {
   "cell_type": "markdown",
   "id": "82e82f64",
   "metadata": {},
   "source": [
    "### Exercise 2"
   ]
  },
  {
   "cell_type": "code",
   "execution_count": 5,
   "id": "7cb7dd69",
   "metadata": {},
   "outputs": [],
   "source": [
    "## Import 'random' library fron numpy. This allows to use the rand() method to specify the shape of the array\n",
    "from numpy import random "
   ]
  },
  {
   "cell_type": "code",
   "execution_count": 6,
   "id": "40abff79",
   "metadata": {},
   "outputs": [],
   "source": [
    "# Definition of a function that generates an NxN square array of random numbers between 0 and 100.\n",
    "\n",
    "def randomNxN(N):\n",
    "    array2 = np.random.rand(N,N)\n",
    "    return(array2)"
   ]
  },
  {
   "cell_type": "code",
   "execution_count": 7,
   "id": "e90f326c",
   "metadata": {},
   "outputs": [
    {
     "data": {
      "text/plain": [
       "array([[0.322107  , 0.90499433, 0.72395276],\n",
       "       [0.88913248, 0.36220304, 0.42793481],\n",
       "       [0.72835118, 0.0698369 , 0.20057544]])"
      ]
     },
     "execution_count": 7,
     "metadata": {},
     "output_type": "execute_result"
    }
   ],
   "source": [
    "# validation 1\n",
    "randomNxN(3)"
   ]
  },
  {
   "cell_type": "markdown",
   "id": "87dcea99",
   "metadata": {},
   "source": [
    "### Exercise 3"
   ]
  },
  {
   "cell_type": "code",
   "execution_count": 8,
   "id": "5a7ccee4",
   "metadata": {},
   "outputs": [],
   "source": [
    "# Definition of a function that calculates the totals per row and the totals per column from a two-dimensional array\n",
    "\n",
    "def totalArray(arr):\n",
    "    # argument validation\n",
    "    if arr.shape == (2,2):\n",
    "        axis0 = np.sum(arr,axis=0) # sum of the column elements has been calculated\n",
    "        axis1 = np.sum(arr,axis=1) # sum of the row elements has been calculated\n",
    "        print('The sum of the column elements in the array is ', axis0 )\n",
    "        print('The sum of the row elements in the array is ', axis1 )\n",
    "    else:\n",
    "        print(\"Error!, the array dimension is different from 2\")        "
   ]
  },
  {
   "cell_type": "code",
   "execution_count": 9,
   "id": "87bc70fe",
   "metadata": {},
   "outputs": [
    {
     "data": {
      "text/plain": [
       "array([[8, 6],\n",
       "       [3, 1]])"
      ]
     },
     "execution_count": 9,
     "metadata": {},
     "output_type": "execute_result"
    }
   ],
   "source": [
    "# Generate a 2-D array containing random integers from 0 to 10\n",
    "array3 = random.randint(10, size=(2, 2))\n",
    "array3"
   ]
  },
  {
   "cell_type": "code",
   "execution_count": 10,
   "id": "322aa81a",
   "metadata": {
    "scrolled": true
   },
   "outputs": [
    {
     "name": "stdout",
     "output_type": "stream",
     "text": [
      "The sum of the column elements in the array is  [11  7]\n",
      "The sum of the row elements in the array is  [14  4]\n"
     ]
    }
   ],
   "source": [
    "# Validation\n",
    "totalArray(array3)"
   ]
  },
  {
   "cell_type": "markdown",
   "id": "deac0f45",
   "metadata": {},
   "source": [
    "### Exercise 4"
   ]
  },
  {
   "cell_type": "code",
   "execution_count": 11,
   "id": "f980e6fa",
   "metadata": {},
   "outputs": [],
   "source": [
    "# This function manually calculates the correlation coefficient using np.cov methode.\n",
    "# The argument is a 2D-array with the X and Y variables \n",
    "\n",
    "def corrCoefPearson(arr2):\n",
    "    rho = np.cov(arr2)[0][1]/(np.cov(arr2)[0][0]*np.cov(arr2)[1][1])**(0.5)\n",
    "    return(rho)"
   ]
  },
  {
   "cell_type": "markdown",
   "id": "1a1fcb29",
   "metadata": {},
   "source": [
    "#### Validation"
   ]
  },
  {
   "cell_type": "code",
   "execution_count": 12,
   "id": "90a1e052",
   "metadata": {},
   "outputs": [
    {
     "data": {
      "text/plain": [
       "array([[43, 21, 25, 42, 57, 59],\n",
       "       [99, 65, 79, 75, 87, 81]])"
      ]
     },
     "execution_count": 12,
     "metadata": {},
     "output_type": "execute_result"
    }
   ],
   "source": [
    "# creating an array with the specific format\n",
    "x = [43,21,25,42,57,59]\n",
    "y = [99,65,79,75,87,81]\n",
    "X = np.stack((x, y), axis=0)\n",
    "X\n"
   ]
  },
  {
   "cell_type": "code",
   "execution_count": 13,
   "id": "503a459d",
   "metadata": {},
   "outputs": [
    {
     "data": {
      "text/plain": [
       "0.5298089018901744"
      ]
     },
     "execution_count": 13,
     "metadata": {},
     "output_type": "execute_result"
    }
   ],
   "source": [
    "# Execute function\n",
    "corrCoefPearson(X)"
   ]
  },
  {
   "cell_type": "code",
   "execution_count": 14,
   "id": "488261cf",
   "metadata": {},
   "outputs": [
    {
     "data": {
      "text/plain": [
       "array([[1.       , 0.5298089],\n",
       "       [0.5298089, 1.       ]])"
      ]
     },
     "execution_count": 14,
     "metadata": {},
     "output_type": "execute_result"
    }
   ],
   "source": [
    "np.corrcoef(X)"
   ]
  }
 ],
 "metadata": {
  "kernelspec": {
   "display_name": "Python 3 (ipykernel)",
   "language": "python",
   "name": "python3"
  },
  "language_info": {
   "codemirror_mode": {
    "name": "ipython",
    "version": 3
   },
   "file_extension": ".py",
   "mimetype": "text/x-python",
   "name": "python",
   "nbconvert_exporter": "python",
   "pygments_lexer": "ipython3",
   "version": "3.7.9"
  }
 },
 "nbformat": 4,
 "nbformat_minor": 5
}
